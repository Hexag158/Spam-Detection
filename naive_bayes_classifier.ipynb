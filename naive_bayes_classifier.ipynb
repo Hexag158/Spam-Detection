{
 "cells": [
  {
   "cell_type": "code",
   "execution_count": null,
   "metadata": {},
   "outputs": [],
   "source": [
    "# Import library\n",
    "import numpy as np\n",
    "import pandas as pd\n",
    "import nltk\n",
    "from nltk.corpus import words\n",
    "import ast\n",
    "import seaborn as sns\n",
    "import matplotlib.pyplot as plt\n",
    "from sklearn.metrics import accuracy_score, confusion_matrix, classification_report"
   ]
  },
  {
   "cell_type": "code",
   "execution_count": null,
   "metadata": {},
   "outputs": [],
   "source": [
    "origin_data = pd.read_csv('data\\emails.csv')\n",
    "print(origin_data.shape)\n",
    "origin_data.head()"
   ]
  },
  {
   "cell_type": "code",
   "execution_count": null,
   "metadata": {},
   "outputs": [],
   "source": [
    "def split_data(data, train_size):\n",
    "    train_data = data[:int(len(data) * train_size)]\n",
    "    test_data = data[int(len(data) * train_size):]\n",
    "    return train_data, test_data"
   ]
  },
  {
   "cell_type": "code",
   "execution_count": null,
   "metadata": {},
   "outputs": [],
   "source": [
    "def save_data(data, filename):\n",
    "    data.to_csv(filename, index=False, na_rep=\"\")"
   ]
  },
  {
   "cell_type": "code",
   "execution_count": null,
   "metadata": {},
   "outputs": [],
   "source": [
    "origin_data = origin_data.sample(frac = 1,replace=False)\n",
    "train_data, test_data = split_data(origin_data, 0.9)\n",
    "\n",
    "print (len(train_data))\n",
    "print (len(test_data))\n",
    "\n",
    "save_data(train_data, \"data/train.csv\")\n",
    "save_data(test_data, \"data/test.csv\")\n"
   ]
  },
  {
   "cell_type": "code",
   "execution_count": null,
   "metadata": {},
   "outputs": [],
   "source": [
    "test= pd.read_csv('data/test.csv')\n",
    "test.head()"
   ]
  },
  {
   "cell_type": "code",
   "execution_count": null,
   "metadata": {},
   "outputs": [],
   "source": [
    "# Load train dataset\n",
    "data = pd.read_csv('data/train.csv')\n",
    "print(data.shape)"
   ]
  },
  {
   "cell_type": "code",
   "execution_count": null,
   "metadata": {},
   "outputs": [],
   "source": [
    "# load set of words to check English words\n",
    "nltk.download(\"words\")\n",
    "\n",
    "set_words = set(words.words())\n",
    "\n",
    "print(list(set_words)[:10])\n",
    "print(len(set_words))"
   ]
  },
  {
   "cell_type": "code",
   "execution_count": null,
   "metadata": {},
   "outputs": [],
   "source": [
    "# Create a vocabulary from the loaded train dataset\n",
    "vocabulary = {}\n",
    "for i in range(data.shape[0]):\n",
    "        \n",
    "        current_email = data.iloc[i, :][0].split()\n",
    "        print(\n",
    "            f\"Email number: {i} out of {data.shape[0]} \\\n",
    "            Length of vocab: {len(vocabulary)}\"\n",
    "        )\n",
    "        for word in current_email:\n",
    "            idx = len(vocabulary)\n",
    "            if word.lower() not in vocabulary and word.lower() in set_words:\n",
    "                vocabulary[word] = idx\n",
    "                idx += 1\n",
    "            \n",
    "file = open(\"data/vocabulary.txt\", \"w\")\n",
    "file.write(str(vocabulary))\n",
    "file.close()           "
   ]
  },
  {
   "cell_type": "code",
   "execution_count": null,
   "metadata": {},
   "outputs": [],
   "source": [
    "# Extract frequent feature from the imported dataset\n",
    "def extract_freq (data):\n",
    "    file = open(\"data/vocabulary.txt\", \"r\")\n",
    "    contents = file.read()\n",
    "    vocabulary = ast.literal_eval(contents)\n",
    "\n",
    "    X = np.zeros((data.shape[0], len(vocabulary)))\n",
    "    y = np.zeros((data.shape[0]))\n",
    "\n",
    "    for i in range(data.shape[0]):\n",
    "        email = data.iloc[i, :][0].split()\n",
    "\n",
    "        for email_word in email:\n",
    "            if email_word.lower() in vocabulary:\n",
    "                X[i, vocabulary[email_word.lower()]] += 1\n",
    "            else:\n",
    "                continue\n",
    "        y[i] = data.iloc[i, :][1]\n",
    "    \n",
    "    return X, y"
   ]
  },
  {
   "cell_type": "code",
   "execution_count": null,
   "metadata": {},
   "outputs": [],
   "source": [
    "data = pd.read_csv(\"data/train.csv\")\n",
    "X_train,y_train = extract_freq(data)\n",
    "np.save(\"data/X_train.npy\", X_train)\n",
    "np.save(\"data/y_train.npy\", y_train)\n",
    "\n",
    "print(\"X_train shape: \", X_train.shape)\n",
    "print(\"y_train shape: \", y_train.shape)\n"
   ]
  },
  {
   "cell_type": "code",
   "execution_count": null,
   "metadata": {},
   "outputs": [],
   "source": [
    "test_data = pd.read_csv(\"data/test.csv\")\n",
    "X_test,y_test = extract_freq(test_data)\n",
    "np.save(\"data/X_test.npy\", X_test)\n",
    "np.save(\"data/y_test.npy\", y_test)\n",
    "\n",
    "print(\"X_test shape: \", X_test.shape)\n",
    "print(\"y_test shape: \", y_test.shape)"
   ]
  },
  {
   "cell_type": "code",
   "execution_count": null,
   "metadata": {},
   "outputs": [],
   "source": [
    "# Naive Bayes from scikit learn\n",
    "from sklearn.naive_bayes import MultinomialNB\n",
    "model = MultinomialNB()\n",
    "\n",
    "# Load data and train model\n",
    "X_sk = np.load(\"data/X_train.npy\")\n",
    "y_sk = np.load(\"data/y_train.npy\")\n",
    "model.fit(X_sk , y_sk )\n",
    "\n",
    "# predict on train set\n",
    "predictions = model.predict(X_sk)\n",
    "accuracy = accuracy_score(y_sk, predictions)\n",
    "cm = confusion_matrix(y_sk, predictions)\n",
    "print(\"Accuracy on train set:\", accuracy)\n",
    "print(cm)\n",
    "\n",
    "#predict on test set\n",
    "X_test = np.load(\"data/X_test.npy\")\n",
    "y_test = np.load(\"data/y_test.npy\")\n",
    "\n",
    "predictions = model.predict(X_test)\n",
    "accuracy = accuracy_score(y_test, predictions)\n",
    "cm = confusion_matrix(y_test, predictions)\n",
    "print(\"Accuracy on test set:\", accuracy)\n",
    "print(cm)"
   ]
  },
  {
   "cell_type": "code",
   "execution_count": null,
   "metadata": {},
   "outputs": [],
   "source": [
    "true_positives = cm[1][1]\n",
    "false_positives = cm[0][1]\n",
    "false_negatives = cm[1][0]\n",
    "true_negatives = cm[0][0]\n",
    "\n",
    "precision = true_positives / (true_positives + false_positives)\n",
    "recall = true_positives / (true_positives + false_negatives)\n",
    "f1_score = 2 * precision * recall / (precision + recall)\n",
    "print (\"Precision: \", precision)\n",
    "print (\"Recall: \", recall)\n",
    "print (\"F1 Score: \", f1_score)"
   ]
  },
  {
   "cell_type": "code",
   "execution_count": null,
   "metadata": {},
   "outputs": [],
   "source": [
    "plt.figure(figsize=(8,6), dpi=100)\n",
    "sns.set(font_scale = 1.1) \n",
    "ax = sns.heatmap(cm, annot=True, fmt='d', )\n",
    "\n",
    "# set x-axis label and ticks. \n",
    "ax.set_xlabel(\"Predicted Spam\", fontsize=14, labelpad=20)\n",
    "ax.xaxis.set_ticklabels(['Negative', 'Positive'])\n",
    "\n",
    "# set y-axis label and ticks\n",
    "ax.set_ylabel(\"Actual Spam\", fontsize=14, labelpad=20)\n",
    "ax.yaxis.set_ticklabels(['Negative', 'Positive'])\n",
    "\n",
    "# set plot title\n",
    "ax.set_title(\"Confusion Matrix for the Spam Detection Model\", fontsize=14, pad=20)\n",
    "\n",
    "plt.show()"
   ]
  },
  {
   "cell_type": "code",
   "execution_count": null,
   "metadata": {},
   "outputs": [],
   "source": [
    "# Extract frequent feature from the imported dataset\n",
    "def get_freq (data):\n",
    "    file = open(\"data/vocabulary.txt\", \"r\")\n",
    "    contents = file.read()\n",
    "    vocabulary = ast.literal_eval(contents)\n",
    "\n",
    "    X = np.zeros((data.shape[0], len(vocabulary)))\n",
    "    y = np.zeros((data.shape[0]))\n",
    "\n",
    "    for i in range(data.shape[0]):\n",
    "        email = data.iloc[i, :][0].split()\n",
    "        for email_word in email:\n",
    "            if email_word.lower() in vocabulary:\n",
    "                X[i, vocabulary[email_word.lower()]] += 1\n",
    "            else:\n",
    "                continue\n",
    "    return X, y"
   ]
  },
  {
   "cell_type": "code",
   "execution_count": null,
   "metadata": {},
   "outputs": [],
   "source": [
    "# Spam Detection engine using Naive Bayes Classifier\n",
    "input_email = pd.read_csv(\"data/real_test.csv\")\n",
    "actual_spam = 0\n",
    "for i in range(len(input_email)):\n",
    "    if input_email.loc[i, \"class\"] == 1:\n",
    "        actual_spam += 1\n",
    "print (f\"Number of spam email in the input: {actual_spam}\")\n",
    "input_data_features,_ = extract_freq(input_email)\n",
    "\n",
    "print(f\"Input shape: {input_data_features.shape}\")\n",
    "prediction = model.predict(input_data_features)\n",
    "\n",
    "spam = 0\n",
    "for i in range(len(prediction)):\n",
    "    if prediction[i] == 1:\n",
    "        spam += 1\n",
    "print(f\"Number of spam email detected: {spam}\")\n"
   ]
  },
  {
   "cell_type": "code",
   "execution_count": null,
   "metadata": {},
   "outputs": [],
   "source": [
    "email_no = 10\n",
    "if (prediction[email_no-1]==1):\n",
    "    print(f'Email number {email_no} is a spam email')\n",
    "else:\n",
    "    print(f'Email number {email_no} is not a spam email')"
   ]
  }
 ],
 "metadata": {
  "kernelspec": {
   "display_name": "Python 3",
   "language": "python",
   "name": "python3"
  },
  "language_info": {
   "codemirror_mode": {
    "name": "ipython",
    "version": 3
   },
   "file_extension": ".py",
   "mimetype": "text/x-python",
   "name": "python",
   "nbconvert_exporter": "python",
   "pygments_lexer": "ipython3",
   "version": "3.10.11"
  },
  "orig_nbformat": 4
 },
 "nbformat": 4,
 "nbformat_minor": 2
}
